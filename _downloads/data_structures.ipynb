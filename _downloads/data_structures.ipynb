{
  "nbformat_minor": 0,
  "nbformat": 4,
  "cells": [
    {
      "execution_count": null,
      "outputs": [],
      "cell_type": "code",
      "source": [
        "%matplotlib inline"
      ],
      "metadata": {
        "collapsed": false
      }
    },
    {
      "source": [
        "\nData Structures\n===============\n\nGeoPandas implements two main data structures, a ``GeoSeries`` and a\n``GeoDataFrame``.  These are subclasses of pandas ``Series`` and\n``DataFrame``, respectively.\n\n.. currentmodule:: geopandas\n\nGeoSeries\n---------\n\nA ``GeoSeries`` is essentially a vector where each entry in the vector\nis a set of shapes corresponding to one observation. An entry may consist\nof only one shape (like a single polygon) or multiple shapes that are\nmeant to be thought of as one observation (like the many polygons that\nmake up the State of Hawaii or a country like Indonesia).\n\n*geopandas* has three basic classes of geometric objects (which are actually\n*shapely* objects):\n\n* Points / Multi-Points\n* Lines / Multi-Lines\n* Polygons / Multi-Polygons\n\nNote that all entries in  a ``GeoSeries`` need not be of the same geometric\ntype, although certain export operations will fail if this is not the case.\n\nOverview of Attributes and Methods\n~~~~~~~~~~~~~~~~~~~~~~~~~~~~~~~~~~\n\nThe ``GeoSeries`` class implements nearly all of the attributes and\nmethods of Shapely objects.  When applied to a ``GeoSeries``, they\nwill apply elementwise to all geometries in the series.  Binary\noperations can be applied between two ``GeoSeries``, in which case the\noperation is carried out elementwise.  The two series will be aligned\nby matching indices.  Binary operations can also be applied to a\nsingle geometry, in which case the operation is carried out for each\nelement of the series with that geometry.  In either case, a\n``Series`` or a ``GeoSeries`` will be returned, as appropriate.\n\nA short summary of a few attributes and methods for GeoSeries is\npresented here, and a full list can be found in the :doc:`all attributes and\nmethods page <reference>`.\nThere is also a family of methods for creating new shapes by expanding\nexisting shapes or applying set-theoretic operations like \"union\" described\nin :doc:`geometric manipulations <geometric_manipulations>`.\n\nAttributes\n^^^^^^^^^^\n* ``area``: shape area (units of projection -- see :doc:`projections\n  <projections>`)\n* ``bounds``: tuple of max and min coordinates on each axis for each shape\n* ``total_bounds``: tuple of max and min coordinates on each axis for entire\n  GeoSeries\n* ``geom_type``: type of geometry.\n* ``is_valid``: tests if coordinates make a shape that is reasonable geometric\n  shape (`according to this <http://www.opengeospatial.org/standards/sfa>`_).\n\nBasic Methods\n^^^^^^^^^^^^^\n\n* ``distance(other)``: returns ``Series`` with minimum distance from each entry\n  to ``other``\n* ``centroid``: returns ``GeoSeries`` of centroids\n* ``representative_point()``:  returns ``GeoSeries`` of points that are\n  guaranteed to be within each geometry. It does **NOT** return centroids.\n* ``to_crs()``: change coordinate reference system. See :doc:`projections\n  <projections>`\n* ``plot()``: plot ``GeoSeries``. See :doc:`mapping <mapping>`.\n\nRelationship Tests\n^^^^^^^^^^^^^^^^^^\n\n* ``geom_almost_equals(other)``: is shape almost the same as ``other``\n  (good when floating point precision issues make shapes slightly different)\n* ``contains(other)``: is shape contained within ``other``\n* ``intersects(other)``: does shape intersect ``other``\n\n\nGeoDataFrame\n------------\n\nA ``GeoDataFrame`` is a tabular data structure that contains a ``GeoSeries``.\n\nThe most important property of a ``GeoDataFrame`` is that it always has one\n``GeoSeries`` column that holds a special status. This ``GeoSeries`` is\nreferred to as the ``GeoDataFrame``'s \"geometry\". When a spatial method\nis applied to a ``GeoDataFrame`` (or a spatial attribute like ``area``\nis called), this commands will always act on the \"geometry\" column.\n\nThe \"geometry\" column -- no matter its name -- can be accessed through\nthe ``geometry`` attribute (``gdf.geometry``), and the name of the\n``geometry`` column can be found by typing ``gdf.geometry.name``.\n\nA ``GeoDataFrame`` may also contain other columns with geometrical\n(shapely) objects, but only one column can be the active geometry\nat a time. To change which column is the active geometry column,\nuse the ``set_geometry`` method.\n\nAn example using the ``worlds`` GeoDataFrame:\n\n\n"
      ],
      "cell_type": "markdown",
      "metadata": {}
    },
    {
      "execution_count": null,
      "outputs": [],
      "cell_type": "code",
      "source": [
        "import geopandas as gpd\n\n\nworld = gpd.read_file(gpd.datasets.get_path('naturalearth_lowres'))\nprint(world.head())\n\n#Plot countries\nworld.plot()"
      ],
      "metadata": {
        "collapsed": false
      }
    },
    {
      "source": [
        "Currently, the column named \"geometry\" with country borders is the active\ngeometry column:\n\n"
      ],
      "cell_type": "markdown",
      "metadata": {}
    },
    {
      "execution_count": null,
      "outputs": [],
      "cell_type": "code",
      "source": [
        "print(world.geometry.name)"
      ],
      "metadata": {
        "collapsed": false
      }
    },
    {
      "source": [
        "We can also rename this column to \"borders\":\n\n"
      ],
      "cell_type": "markdown",
      "metadata": {}
    },
    {
      "execution_count": null,
      "outputs": [],
      "cell_type": "code",
      "source": [
        "world = world.rename(columns={'geometry': 'borders'}).set_geometry('borders')\nprint(world.geometry.name)"
      ],
      "metadata": {
        "collapsed": false
      }
    },
    {
      "source": [
        "Now, we create centroids and make it the geometry:\n\n"
      ],
      "cell_type": "markdown",
      "metadata": {}
    },
    {
      "execution_count": null,
      "outputs": [],
      "cell_type": "code",
      "source": [
        "world['centroid_column'] = world.centroid\nworld = world.set_geometry('centroid_column')\nworld.plot()"
      ],
      "metadata": {
        "collapsed": false
      }
    },
    {
      "source": [
        "<div class=\"alert alert-info\"><h4>Note</h4><p>A ``GeoDataFrame`` keeps track of the active column by name,\n   so if you rename the active geometry column, you must also reset the\n   geometry::\n\n     gdf = gdf.rename(columns={'old_name': 'new_name'}).set_geometry('new_name')</p></div>\n\n<div class=\"alert alert-info\"><h4>Note</h4><p>Somewhat confusingly, by default when you use the\n   ``read_file`` command, the column containing spatial objects from the\n   file is named \"geometry\" by default, and will be set as the active\n   geometry column. However, despite using the same term for the name\n   of the column and the name of the special attribute that keeps track\n   of the active column, they are distinct. You can easily shift the active\n   geometry column to a different ``GeoSeries`` with the ``set_geometry``\n   command. Further, ``gdf.geometry`` will always return the active geometry\n   column, *not* the column named ``geometry``. If you wish to call a column\n   named \"geometry\", and a different column is the active geometry column, use</p></div>\n``gdf['geometry']``, not ``gdf.geometry``.\n\nAttributes and Methods\n~~~~~~~~~~~~~~~~~~~~~~\n\nAny of the attributes calls or methods described for a ``GeoSeries``\nwill work on a ``GeoDataFrame`` -- effectively, they are just applied to\nthe \"geometry\" ``GeoSeries``.\n\nHowever, ``GeoDataFrames`` also have a few extra methods for input and\noutput which are described on the :doc:`Input and Output <io>` page and for\ngeocoding with are described in :doc:`Geocoding <geocoding>`.\n\n"
      ],
      "cell_type": "markdown",
      "metadata": {}
    }
  ],
  "metadata": {
    "language_info": {
      "mimetype": "text/x-python",
      "codemirror_mode": {
        "name": "ipython",
        "version": 3
      },
      "name": "python",
      "nbconvert_exporter": "python",
      "file_extension": ".py",
      "version": "3.5.3",
      "pygments_lexer": "ipython3"
    },
    "kernelspec": {
      "language": "python",
      "display_name": "Python 3",
      "name": "python3"
    }
  }
}