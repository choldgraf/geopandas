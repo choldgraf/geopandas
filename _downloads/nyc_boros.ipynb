{
  "cells": [
    {
      "outputs": [],
      "source": [
        "%matplotlib inline"
      ],
      "execution_count": null,
      "metadata": {
        "collapsed": false
      },
      "cell_type": "code"
    },
    {
      "source": [
        "\nVisualizing NYC Boroughs\n------------------------\n\nVisualize the Boroughs of New York City with Geopandas.\n\nThis example generates many images that are used in the documentation. See\nthe `Geometric Manipulations <geometric_manipulations>` example for more\ndetails.\n\nFirst we'll import a dataset containing each borough in New York City. We'll\nuse the ``datasets`` module to handle this quickly.\n\n"
      ],
      "metadata": {},
      "cell_type": "markdown"
    },
    {
      "outputs": [],
      "source": [
        "import numpy as np\nimport matplotlib.pyplot as plt\nfrom shapely.geometry import Point\nfrom geopandas import GeoSeries, GeoDataFrame\nimport geopandas as gpd\n\nnp.random.seed(1)\nDPI = 100\n\npath_nybb = gpd.datasets.get_path('nybb')\nboros = GeoDataFrame.from_file(path_nybb)\nboros.set_index('BoroCode', inplace=True)\nboros.sort_index()\nboros"
      ],
      "execution_count": null,
      "metadata": {
        "collapsed": false
      },
      "cell_type": "code"
    },
    {
      "source": [
        "Next, we'll plot the raw data\n\n"
      ],
      "metadata": {},
      "cell_type": "markdown"
    },
    {
      "outputs": [],
      "source": [
        "ax = boros.plot()\nplt.xticks(rotation=90)\nplt.savefig('nyc.png', dpi=DPI, bbox_inches='tight')"
      ],
      "execution_count": null,
      "metadata": {
        "collapsed": false
      },
      "cell_type": "code"
    },
    {
      "source": [
        "We can easily retrieve the convex hull of each shape. This corresponds to\nthe outer edge of the shapes.\n\n"
      ],
      "metadata": {},
      "cell_type": "markdown"
    },
    {
      "outputs": [],
      "source": [
        "boros.geometry.convex_hull.plot()\nplt.xticks(rotation=90)\n\n# Grab the limits which we'll use later\nxmin, xmax = plt.gca().get_xlim()\nymin, ymax = plt.gca().get_ylim()\n\nplt.savefig('nyc_hull.png', dpi=DPI, bbox_inches='tight')"
      ],
      "execution_count": null,
      "metadata": {
        "collapsed": false
      },
      "cell_type": "code"
    },
    {
      "source": [
        "We'll generate some random dots scattered throughout our data, and will\nuse them to perform some set geometry with our boroughs. We can use\nGeoPandas to perform unions, intersections, etc.\n\n"
      ],
      "metadata": {},
      "cell_type": "markdown"
    },
    {
      "outputs": [],
      "source": [
        "N = 2000  # number of random points\nR = 2000  # radius of buffer in feet\n\n#xmin, xmax, ymin, ymax = 900000, 1080000, 120000, 280000\nxc = (xmax - xmin) * np.random.random(N) + xmin\nyc = (ymax - ymin) * np.random.random(N) + ymin\npts = GeoSeries([Point(x, y) for x, y in zip(xc, yc)])\nmp = pts.buffer(R).unary_union\nboros_with_holes = boros.geometry - mp\nboros_with_holes.plot()\nplt.xticks(rotation=90)\nplt.savefig('boros_with_holes.png', dpi=DPI, bbox_inches='tight')"
      ],
      "execution_count": null,
      "metadata": {
        "collapsed": false
      },
      "cell_type": "code"
    },
    {
      "source": [
        "Finally, we'll show the holes that were taken out of our boroughs.\n\n"
      ],
      "metadata": {},
      "cell_type": "markdown"
    },
    {
      "outputs": [],
      "source": [
        "holes = boros.geometry & mp\nholes.plot()\nplt.xticks(rotation=90)\nplt.savefig('holes.png', dpi=DPI, bbox_inches='tight')\nplt.show()"
      ],
      "execution_count": null,
      "metadata": {
        "collapsed": false
      },
      "cell_type": "code"
    }
  ],
  "nbformat": 4,
  "metadata": {
    "kernelspec": {
      "display_name": "Python 3",
      "name": "python3",
      "language": "python"
    },
    "language_info": {
      "version": "3.5.3",
      "nbconvert_exporter": "python",
      "mimetype": "text/x-python",
      "file_extension": ".py",
      "pygments_lexer": "ipython3",
      "codemirror_mode": {
        "version": 3,
        "name": "ipython"
      },
      "name": "python"
    }
  },
  "nbformat_minor": 0
}