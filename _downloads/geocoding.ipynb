{
  "nbformat": 4,
  "nbformat_minor": 0,
  "cells": [
    {
      "outputs": [],
      "execution_count": null,
      "cell_type": "code",
      "source": [
        "%matplotlib inline"
      ],
      "metadata": {
        "collapsed": false
      }
    },
    {
      "cell_type": "markdown",
      "source": [
        "\nGeocoding\n=========\n\nGeocoding with geopandas.\n\n[TO BE COMPLETED]\n\n<div class=\"alert alert-info\"><h4>Note</h4><p>This module requires `geopy`_.  Please consult the Terms of Service for the\n    chosen provider.</p></div>\n\n\n"
      ],
      "metadata": {}
    },
    {
      "outputs": [],
      "execution_count": null,
      "cell_type": "code",
      "source": [
        "import geopandas as gpd\nimport matplotlib.pyplot as plt\n\ncities = ['San Francisco', 'New York City', 'Paris', 'Sydney', 'Mumbai']\nworld = gpd.read_file(gpd.datasets.get_path('naturalearth_lowres'))\ngeocoded_cities = gpd.tools.geocode(cities)\n\nfig, ax = plt.subplots()\nworld.plot(ax=ax)\ngeocoded_cities.plot(ax=ax, markersize=150, color='r')\n\nplt.show()"
      ],
      "metadata": {
        "collapsed": false
      }
    }
  ],
  "metadata": {
    "kernelspec": {
      "display_name": "Python 3",
      "name": "python3",
      "language": "python"
    },
    "language_info": {
      "codemirror_mode": {
        "version": 3,
        "name": "ipython"
      },
      "name": "python",
      "file_extension": ".py",
      "version": "3.5.3",
      "nbconvert_exporter": "python",
      "mimetype": "text/x-python",
      "pygments_lexer": "ipython3"
    }
  }
}