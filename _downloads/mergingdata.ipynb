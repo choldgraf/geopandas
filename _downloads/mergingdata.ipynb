{
  "metadata": {
    "language_info": {
      "file_extension": ".py",
      "mimetype": "text/x-python",
      "version": "3.5.3",
      "name": "python",
      "nbconvert_exporter": "python",
      "pygments_lexer": "ipython3",
      "codemirror_mode": {
        "version": 3,
        "name": "ipython"
      }
    },
    "kernelspec": {
      "display_name": "Python 3",
      "name": "python3",
      "language": "python"
    }
  },
  "cells": [
    {
      "outputs": [],
      "metadata": {
        "collapsed": false
      },
      "execution_count": null,
      "cell_type": "code",
      "source": [
        "%matplotlib inline"
      ]
    },
    {
      "metadata": {},
      "cell_type": "markdown",
      "source": [
        "\nMerging Data\n============\n\nMerging datasets in geopandas.\n\nThere are two ways to combine datasets in *geopandas* -- attribute joins and\nspatial joins.\n\nIn an attribute join, a ``GeoSeries`` or ``GeoDataFrame`` is combined with a\nregular *pandas* ``Series`` or ``DataFrame`` based on a common variable. This\nis analogous to normal merging or joining in *pandas*.\n\nIn a Spatial Join, observations from to ``GeoSeries`` or ``GeoDataFrames``\nare combined based on their spatial relationship to one another.\n\nIn the following examples, we use these datasets:\n\n.. currentmodule:: geopandas\n\n"
      ]
    },
    {
      "outputs": [],
      "metadata": {
        "collapsed": false
      },
      "execution_count": null,
      "cell_type": "code",
      "source": [
        "# sphinx_gallery_thumbnail_number = 3\n\nimport geopandas as gpd\n\nworld = gpd.read_file(gpd.datasets.get_path('naturalearth_lowres'))\ncities = gpd.read_file(gpd.datasets.get_path('naturalearth_cities'))\n\n# For attribute join\ncountry_shapes = world[['geometry', 'iso_a3']]\ncountry_names = world[['name', 'iso_a3']]\n\n# For spatial join\ncountries = world[['geometry', 'name']]\ncountries = countries.rename(columns={'name':'country'})\ncountries.plot()"
      ]
    },
    {
      "metadata": {},
      "cell_type": "markdown",
      "source": [
        "Attribute Joins\n---------------\n\nAttribute joins are accomplished using the ``merge`` method. In general,\nit is recommended to use the ``merge`` method called from the spatial dataset.\nWith that said, the stand-alone ``merge`` function will work if the\nGeoDataFrame is in the ``left`` argument; if a DataFrame is in the\n``left`` argument and a GeoDataFrame is in the ``right`` position, the\nresult will no longer be a GeoDataFrame.\n\nFor example, consider the following merge that adds full names to a\n``GeoDataFrame`` that initially has only ISO codes for each country by\nmerging it with a *pandas* ``DataFrame``.\n\n"
      ]
    },
    {
      "outputs": [],
      "metadata": {
        "collapsed": false
      },
      "execution_count": null,
      "cell_type": "code",
      "source": [
        "# `country_shapes` is GeoDataFrame with country shapes and iso codes\nprint(country_shapes.head())\n\n# `country_names` is DataFrame with country names and iso codes\nprint(country_names.head())\n\n# Merge with `merge` method on shared variable (iso codes):\ncountry_shapes = country_shapes.merge(country_names, on='iso_a3')\ncountry_shapes.plot()\nprint(country_shapes.head())"
      ]
    },
    {
      "metadata": {},
      "cell_type": "markdown",
      "source": [
        "Spatial Joins\n-------------\n\nIn a Spatial Join, two geometry objects are merged based on their spatial\nrelationship to one another.\n\n"
      ]
    },
    {
      "outputs": [],
      "metadata": {
        "collapsed": false
      },
      "execution_count": null,
      "cell_type": "code",
      "source": [
        "# One GeoDataFrame of countries, one of Cities.\n# Want to merge so we can get each city's country.\nprint(countries.head())\nprint(cities.head())\n\n# Execute spatial join\n\ncities_with_country = gpd.sjoin(cities, countries, how=\"inner\", op='intersects')\ncities_with_country.plot()\nprint(cities_with_country.head())"
      ]
    },
    {
      "metadata": {},
      "cell_type": "markdown",
      "source": [
        "The ``op`` options determines the type of join operation to apply. ``op`` can\nbe set to \"intersects\", \"within\" or \"contains\" (these are all equivalent when\njoining points to polygons, but differ when joining polygons to other polygons\nor lines).\n\nNote more complicated spatial relationships can be studied by combining\ngeometric operations with spatial join. To find all polygons within a given\ndistance of a point, for example, one can first use the ``buffer`` method\nto expand each point into a circle of appropriate radius, then intersect\nthose buffered circles with the polygons in question.\n\n"
      ]
    }
  ],
  "nbformat_minor": 0,
  "nbformat": 4
}