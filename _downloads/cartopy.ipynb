{
  "cells": [
    {
      "cell_type": "code",
      "execution_count": null,
      "metadata": {
        "collapsed": false
      },
      "outputs": [],
      "source": [
        "%matplotlib inline"
      ]
    },
    {
      "cell_type": "markdown",
      "metadata": {},
      "source": [
        "\nPlotting with CartoPy and GeoPandas\n-----------------------------------\n\nConverting between GeoPandas and CartoPy for visualizing data.\n\nCartoPy is a Python library that specializes in creating geospatial\nvisualizations. It has a slightly different way of representing CRS\ncoordinates as well as constructing plots. This example steps through a\nround-trip transfer of data between GeoPandas and CartoPy.\n\nFirst we'll load in the data using GeoPandas.\n\n"
      ]
    },
    {
      "cell_type": "code",
      "execution_count": null,
      "metadata": {
        "collapsed": false
      },
      "outputs": [],
      "source": [
        "# sphinx_gallery_thumbnail_number = 7\nimport geopandas as gpd\nimport matplotlib.pyplot as plt\nimport cartopy as cp\n\npath = gpd.datasets.get_path('naturalearth_lowres')\ndf = gpd.read_file(path)"
      ]
    },
    {
      "cell_type": "markdown",
      "metadata": {},
      "source": [
        "First we'll visualize the map using GeoPandas\n\n"
      ]
    },
    {
      "cell_type": "code",
      "execution_count": null,
      "metadata": {
        "collapsed": false
      },
      "outputs": [],
      "source": [
        "df.plot()"
      ]
    },
    {
      "cell_type": "markdown",
      "metadata": {},
      "source": [
        "Plotting with CartoPy\n---------------------\n\nCartopy also handles Shapely objects well, but it uses a different system for\nCRS. To plot this data with CartoPy, we'll first need to project it into a\nnew CRS. We'll use a CRS defined within shapely and use the GeoPandas\n``to_crs`` method to make the transformation.\n\n"
      ]
    },
    {
      "cell_type": "code",
      "execution_count": null,
      "metadata": {
        "collapsed": false
      },
      "outputs": [],
      "source": [
        "# Define the CartoPy CRS object.\ncrs = cp.crs.AzimuthalEquidistant()\n\n# This can be converted into a `proj4` string/dict compatible with GeoPandas\ncrs_proj4 = crs.proj4_init\ndf = df.to_crs(crs_proj4)\n\n# Here's what the plot looks like in GeoPandas\ndf.plot()"
      ]
    },
    {
      "cell_type": "markdown",
      "metadata": {},
      "source": [
        "Now that our data is in a CRS based off of CartoPy, we can easily\nplot it.\n\n"
      ]
    },
    {
      "cell_type": "code",
      "execution_count": null,
      "metadata": {
        "collapsed": false
      },
      "outputs": [],
      "source": [
        "fig, ax = plt.subplots(subplot_kw={'projection': crs})\nax.add_geometries(df['geometry'], crs=crs)"
      ]
    },
    {
      "cell_type": "markdown",
      "metadata": {},
      "source": [
        "Note that we could have easily done this with an EPSG code like so:\n\n"
      ]
    },
    {
      "cell_type": "code",
      "execution_count": null,
      "metadata": {
        "collapsed": false
      },
      "outputs": [],
      "source": [
        "crs_epsg = cp.crs.epsg('2039')\ndf_epsg = df.to_crs(epsg='2039')\ndf_epsg.plot()"
      ]
    },
    {
      "cell_type": "markdown",
      "metadata": {},
      "source": [
        "CartoPy to GeoPandas\n--------------------\n\nNext we'll perform a CRS projection in CartoPy, and then convert it\nback into a GeoPandas object.\n\n"
      ]
    },
    {
      "cell_type": "code",
      "execution_count": null,
      "metadata": {
        "collapsed": false
      },
      "outputs": [],
      "source": [
        "crs_new = cp.crs.AlbersEqualArea()\nnew_geometries = [crs_new.project_geometry(ii, src_crs=crs)\n                  for ii in df['geometry'].values]\n\nfig, ax = plt.subplots(subplot_kw={'projection': crs_new})\nax.add_geometries(new_geometries, crs=crs_new)"
      ]
    },
    {
      "cell_type": "markdown",
      "metadata": {},
      "source": [
        "Now that we've created new Shapely objects with the CartoPy CRS,\nwe can use this to create a GeoDataFrame.\n\n"
      ]
    },
    {
      "cell_type": "code",
      "execution_count": null,
      "metadata": {
        "collapsed": false
      },
      "outputs": [],
      "source": [
        "df_new = gpd.GeoDataFrame(crs=crs_new.proj4_init, geometry=new_geometries)\ndf_new.plot()"
      ]
    },
    {
      "cell_type": "markdown",
      "metadata": {},
      "source": [
        "We can even combine these into the same figure.\n\n"
      ]
    },
    {
      "cell_type": "code",
      "execution_count": null,
      "metadata": {
        "collapsed": false
      },
      "outputs": [],
      "source": [
        "fig, axs = plt.subplots(1, 2, subplot_kw={'projection': crs_new},\n                        figsize=(10, 5))\naxs[0].add_geometries(new_geometries, crs=crs_new)\ndf_new.plot(ax=axs[1])\n\nplt.show()"
      ]
    }
  ],
  "metadata": {
    "kernelspec": {
      "display_name": "Python 3",
      "language": "python",
      "name": "python3"
    },
    "language_info": {
      "codemirror_mode": {
        "name": "ipython",
        "version": 3
      },
      "file_extension": ".py",
      "mimetype": "text/x-python",
      "name": "python",
      "nbconvert_exporter": "python",
      "pygments_lexer": "ipython3",
      "version": "3.6.1"
    }
  },
  "nbformat": 4,
  "nbformat_minor": 0
}