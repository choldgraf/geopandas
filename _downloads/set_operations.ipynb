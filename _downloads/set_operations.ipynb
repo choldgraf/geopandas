{
  "metadata": {
    "language_info": {
      "mimetype": "text/x-python",
      "name": "python",
      "codemirror_mode": {
        "version": 3,
        "name": "ipython"
      },
      "pygments_lexer": "ipython3",
      "version": "3.5.3",
      "nbconvert_exporter": "python",
      "file_extension": ".py"
    },
    "kernelspec": {
      "display_name": "Python 3",
      "language": "python",
      "name": "python3"
    }
  },
  "cells": [
    {
      "cell_type": "code",
      "execution_count": null,
      "source": [
        "%matplotlib inline"
      ],
      "outputs": [],
      "metadata": {
        "collapsed": false
      }
    },
    {
      "cell_type": "markdown",
      "metadata": {},
      "source": [
        "\nSet-Operations with Overlay\n===========================\n\nWhen working with multiple spatial datasets -- especially multiple *polygon* or\n*line* datasets -- users often wish to create new shapes based on places where\nthose datasets overlap (or don't overlap). These manipulations are often\nreferred using the language of sets -- intersections, unions, and differences.\nThese types of operations are made available in the *geopandas* library through\nthe ``overlay`` function.\n\nThe basic idea is demonstrated by the graphic below but keep in mind that\noverlays operate at the DataFrame level, not on individual geometries, and the\nproperties from both are retained. In effect, for every shape in the first\nGeoDataFrame, this operation is executed against every other shape in the other\nGeoDataFrame:\n\n![](../_static/overlay_operations.png)\n\n\n**Source: QGIS Documentation**\n\n(Note to users familiar with the *shapely* library: ``overlay`` can be thought\nof as offering versions of the standard *shapely* set-operations that deal with\nthe complexities of applying set operations to two *GeoSeries*. The standard\n*shapely* set-operations are also available as ``GeoSeries`` methods.)\n\n\nThe different Overlay operations\n--------------------------------\n\nFirst, we create some example data:\n\n"
      ]
    },
    {
      "cell_type": "code",
      "execution_count": null,
      "source": [
        "import geopandas as gpd\nfrom shapely.geometry import Polygon\npolys1 = gpd.GeoSeries([Polygon([(0,0), (2,0), (2,2), (0,2)]),\n                        Polygon([(2,2), (4,2), (4,4), (2,4)])])\npolys2 = gpd.GeoSeries([Polygon([(1,1), (3,1), (3,3), (1,3)]),\n                        Polygon([(3,3), (5,3), (5,5), (3,5)])])\n\ndf1 = gpd.GeoDataFrame({'geometry': polys1, 'df1':[1,2]})\ndf2 = gpd.GeoDataFrame({'geometry': polys2, 'df2':[1,2]})"
      ],
      "outputs": [],
      "metadata": {
        "collapsed": false
      }
    },
    {
      "cell_type": "markdown",
      "metadata": {},
      "source": [
        "These two GeoDataFrames have some overlapping areas:\n\n"
      ]
    },
    {
      "cell_type": "code",
      "execution_count": null,
      "source": [
        "ax = df1.plot(color='red');\ndf2.plot(ax=ax, color='green')"
      ],
      "outputs": [],
      "metadata": {
        "collapsed": false
      }
    },
    {
      "cell_type": "markdown",
      "metadata": {},
      "source": [
        "We illustrate the different overlay modes with the above example.\nThe ``overlay`` function will determine the set of all individual geometries\nfrom overlaying the two input GeoDataFrames. This result covers the area covered\nby the two input GeoDataFrames, and also preserves all unique regions defined by\nthe combined boundaries of the two GeoDataFrames.\n\nWhen using ``how='union'``, all those possible geometries are returned:\n\n"
      ]
    },
    {
      "cell_type": "code",
      "execution_count": null,
      "source": [
        "res_union = gpd.overlay(df1, df2, how='union')\nres_union\n\nax = res_union.plot()\ndf1.plot(ax=ax, facecolor='none')\ndf2.plot(ax=ax, facecolor='none')"
      ],
      "outputs": [],
      "metadata": {
        "collapsed": false
      }
    },
    {
      "cell_type": "markdown",
      "metadata": {},
      "source": [
        "The other ``how`` operations will return different subsets of those geometries.\nWith ``how='intersection'``, it returns only those geometries that are contained\nby both GeoDataFrames:\n\n"
      ]
    },
    {
      "cell_type": "code",
      "execution_count": null,
      "source": [
        "res_intersection = gpd.overlay(df1, df2, how='intersection')\nprint(res_intersection)\n\nax = res_intersection.plot()\ndf1.plot(ax=ax, facecolor='none')\ndf2.plot(ax=ax, facecolor='none')"
      ],
      "outputs": [],
      "metadata": {
        "collapsed": false
      }
    },
    {
      "cell_type": "markdown",
      "metadata": {},
      "source": [
        "``how='symmetric_difference'`` is the opposite of ``'intersection'`` and returns\nthe geometries that are only part of one of the GeoDataFrames but not of both:\n\n"
      ]
    },
    {
      "cell_type": "code",
      "execution_count": null,
      "source": [
        "res_symdiff = gpd.overlay(df1, df2, how='symmetric_difference')\nprint(res_symdiff)\n\nax = res_symdiff.plot()\ndf1.plot(ax=ax, facecolor='none');\ndf2.plot(ax=ax, facecolor='none');"
      ],
      "outputs": [],
      "metadata": {
        "collapsed": false
      }
    },
    {
      "cell_type": "markdown",
      "metadata": {},
      "source": [
        "To obtain the geometries that are part of ``df1`` but are not contained in\n``df2``, you can use ``how='difference'``:\n\n"
      ]
    },
    {
      "cell_type": "code",
      "execution_count": null,
      "source": [
        "res_difference = gpd.overlay(df1, df2, how='difference')\nprint(res_difference)\n\nax = res_difference.plot()\ndf1.plot(ax=ax, facecolor='none');\ndf2.plot(ax=ax, facecolor='none');"
      ],
      "outputs": [],
      "metadata": {
        "collapsed": false
      }
    },
    {
      "cell_type": "markdown",
      "metadata": {},
      "source": [
        "Finally, with ``how='identity'``, the result consists of the surface of\n``df1``, but with the geometries obtained from overlaying ``df1`` with ``df2``\n\n"
      ]
    },
    {
      "cell_type": "code",
      "execution_count": null,
      "source": [
        "res_identity = gpd.overlay(df1, df2, how='identity')\nprint(res_identity)\n\nax = res_identity.plot()\ndf1.plot(ax=ax, facecolor='none');\ndf2.plot(ax=ax, facecolor='none');"
      ],
      "outputs": [],
      "metadata": {
        "collapsed": false
      }
    },
    {
      "cell_type": "markdown",
      "metadata": {},
      "source": [
        "Overlay Countries Example\n-------------------------\n\nFirst, we load the countries and cities example datasets and select :\n\n"
      ]
    },
    {
      "cell_type": "code",
      "execution_count": null,
      "source": [
        "world = gpd.read_file(gpd.datasets.get_path('naturalearth_lowres'))\ncapitals = gpd.read_file(gpd.datasets.get_path('naturalearth_cities'))\n\n# Select South Amarica and some columns\ncountries = world[world['continent'] == \"South America\"]\ncountries = countries[['geometry', 'name']]\n\n# Project to crs that uses meters as distance measure\ncountries = countries.to_crs('+init=epsg:3395')\ncapitals = capitals.to_crs('+init=epsg:3395')"
      ],
      "outputs": [],
      "metadata": {
        "collapsed": false
      }
    },
    {
      "cell_type": "markdown",
      "metadata": {},
      "source": [
        "To illustrate the ``overlay`` function, consider the following case in which one\nwishes to identify the \"core\" portion of each country -- defined as areas within\n500km of a capital -- using a ``GeoDataFrame`` of countries and a\n``GeoDataFrame`` of capitals.\n\n"
      ]
    },
    {
      "cell_type": "code",
      "execution_count": null,
      "source": [
        "# Look at countries:\ncountries.plot()\n\n# Now buffer cities to find area within 500km.\n# Check CRS -- World Mercator, units of meters.\nprint(capitals.crs)\n\n# make 500km buffer\ncapitals['geometry']= capitals.buffer(500000)\ncapitals.plot()"
      ],
      "outputs": [],
      "metadata": {
        "collapsed": false
      }
    },
    {
      "cell_type": "markdown",
      "metadata": {},
      "source": [
        "To select only the portion of countries within 500km of a capital, we specify\nthe ``how`` option to be \"intersect\", which creates a new set of polygons where\nthese two layers overlap:\n\n"
      ]
    },
    {
      "cell_type": "code",
      "execution_count": null,
      "source": [
        "country_cores = gpd.overlay(countries, capitals, how='intersection')\ncountry_cores.plot()"
      ],
      "outputs": [],
      "metadata": {
        "collapsed": false
      }
    },
    {
      "cell_type": "markdown",
      "metadata": {},
      "source": [
        "Changing the \"how\" option allows for different types of overlay operations.\nFor example, if we were interested in the portions of countries *far* from\ncapitals (the peripheries), we would compute the difference of the two.\n\n"
      ]
    },
    {
      "cell_type": "code",
      "execution_count": null,
      "source": [
        "country_peripheries = gpd.overlay(countries, capitals, how='difference')\ncountry_peripheries.plot()"
      ],
      "outputs": [],
      "metadata": {
        "collapsed": false
      }
    },
    {
      "cell_type": "markdown",
      "metadata": {},
      "source": [
        "More Examples\n-------------\n\nA larger set of examples of the use of ``overlay`` can be found\n`here <http://nbviewer.jupyter.org/github/geopandas/geopandas/blob/master/examples/overlays.ipynb>`_\n\n"
      ]
    }
  ],
  "nbformat": 4,
  "nbformat_minor": 0
}