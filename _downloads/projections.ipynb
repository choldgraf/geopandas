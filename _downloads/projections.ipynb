{
  "nbformat_minor": 0,
  "metadata": {
    "kernelspec": {
      "name": "python3",
      "display_name": "Python 3",
      "language": "python"
    },
    "language_info": {
      "pygments_lexer": "ipython3",
      "version": "3.5.3",
      "name": "python",
      "file_extension": ".py",
      "mimetype": "text/x-python",
      "nbconvert_exporter": "python",
      "codemirror_mode": {
        "name": "ipython",
        "version": 3
      }
    }
  },
  "cells": [
    {
      "source": [
        "%matplotlib inline"
      ],
      "outputs": [],
      "execution_count": null,
      "cell_type": "code",
      "metadata": {
        "collapsed": false
      }
    },
    {
      "source": [
        "\nManaging Projections\n====================\n\nCoordinate reference systems and transformations in geopandas.\n\n.. currentmodule:: geopandas\n\nCoordinate Reference Systems\n-----------------------------\n\nCRS are important because the geometric shapes in a GeoSeries or GeoDataFrame\nobject are simply a collection of coordinates in an arbitrary space. A CRS\ntells Python how those coordinates related to places on the Earth.\n\nCRS are referred to using codes called\n`proj4 strings <https://en.wikipedia.org/wiki/PROJ.4>`_. You can find the\ncodes for most commonly used projections from\n`www.spatialreference.org <http://spatialreference.org/>`_ or\n`remotesensing.org <http://www.remotesensing.org/geotiff/proj_list/>`_.\n\nThe same CRS can often be referred to in many ways. For example, one of the\nmost commonly used CRS is the WGS84 latitude-longitude projection. One `proj4`\nrepresentation of this projection is:\n``\"+proj=longlat +ellps=WGS84 +datum=WGS84 +no_defs\"``. But common projections\ncan also be referred to by `EPSG` codes, so this same projection can also\ncalled using the `proj4` string ``\"+init=epsg:4326\"``.\n\n*geopandas* can accept lots of representations of CRS, including the `proj4`\nstring itself (``\"+proj=longlat +ellps=WGS84 +datum=WGS84 +no_defs\"``) or\nparameters broken out in a dictionary::\n\n    {'proj': 'latlong', 'ellps': 'WGS84', 'datum': 'WGS84', 'no_defs': True}\n\nIn addition, some functions will take `EPSG` codes directly.\n\nFor reference, a few very common projections and their proj4 strings:\n\n* WGS84 Latitude/Longitude: ``\"+proj=longlat +ellps=WGS84 +datum=WGS84 +no_defs\"`` or ``\"+init=epsg:4326\"``\n* UTM Zones (North): ``\"+proj=utm +zone=33 +ellps=WGS84 +datum=WGS84 +units=m +no_defs\"``\n* UTM Zones (South): ``\"+proj=utm +zone=33 +ellps=WGS84 +datum=WGS84 +units=m +no_defs +south\"``\n\nSetting a Projection\n----------------------\n\nThere are two relevant operations for projections: setting a projection\nand re-projecting.\n\nSetting a projection may be necessary when for some reason *geopandas*\nhas coordinate data (x-y values), but no information about how those\ncoordinates refer to locations in the real world. Setting a projection\nis how one tells *geopandas* how to interpret coordinates. If no CRS is\nset, *geopandas* geometry operations will still work, but coordinate\ntransformations will not be possible and exported files may not be\ninterpreted correctly by other software.\n\nBe aware that **most of the time** you don't have to set a projection.\nData loaded from a reputable source (using the ``from_file()`` command)\n*should* always include projection information. You can see an objects\ncurrent CRS through the ``crs`` attribute: ``my_geoseries.crs``.\n\nFrom time to time, however, you may get data that does not include a\nprojection. In this situation, you have to set the CRS so *geopandas*\nknows how to interpret the coordinates.\n\nFor example, if you convert a spreadsheet of latitudes and longitudes into a\nGeoSeries by hand, you would set the projection by assigning the WGS84\nlatitude-longitude CRS to the ``crs`` attribute:\n\n.. sourcecode:: python\n\n   my_geoseries.crs = {'init' :'epsg:4326'}\n\n\nRe-Projecting\n----------------\n\nRe-projecting is the process of changing the representation of locations from\none coordinate system to another. All projections of locations on the Earth\ninto a two-dimensional plane\n`are distortions <https://en.wikipedia.org/wiki/Map_projection#Which_projection_is_best.3F>`_,\nthe projection that is best for your application may be different from the\nprojection associated with the data you import. In these cases, data can\nbe re-projected using the ``to_crs`` command:\n\n\n"
      ],
      "cell_type": "markdown",
      "metadata": {}
    },
    {
      "source": [
        "# sphinx_gallery_thumbnail_number = 3\nimport geopandas as gpd\n\n# load example data\nworld = gpd.read_file(gpd.datasets.get_path('naturalearth_lowres'))\n\n# Check original projection\n# (it's Platte Carre! x-y are long and lat)\nprint(world.crs)\n\n# Visualize\nworld.plot()"
      ],
      "outputs": [],
      "execution_count": null,
      "cell_type": "code",
      "metadata": {
        "collapsed": false
      }
    },
    {
      "source": [
        "Next we'll reproject to Mercator (after dropping Antartica) and replot\n\n"
      ],
      "cell_type": "markdown",
      "metadata": {}
    },
    {
      "source": [
        "world = world[(world.name != \"Antarctica\") & (world.name != \"Fr. S. Antarctic Lands\")]\nworld = world.to_crs({'init': 'epsg:3395'}) # world.to_crs(epsg=3395) would also work\nworld.plot()"
      ],
      "outputs": [],
      "execution_count": null,
      "cell_type": "code",
      "metadata": {
        "collapsed": false
      }
    },
    {
      "source": [
        "And another projection for reference:\n\n"
      ],
      "cell_type": "markdown",
      "metadata": {}
    },
    {
      "source": [
        "world = world.to_crs(crs='+proj=ortho +lon_0=0 +x_0=0 +y_0=0 +ellps=WGS84 +datum=WGS84 +units=m +no_defs')\nworld.plot()"
      ],
      "outputs": [],
      "execution_count": null,
      "cell_type": "code",
      "metadata": {
        "collapsed": false
      }
    }
  ],
  "nbformat": 4
}