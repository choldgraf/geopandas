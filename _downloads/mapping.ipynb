{
  "metadata": {
    "language_info": {
      "mimetype": "text/x-python",
      "pygments_lexer": "ipython3",
      "codemirror_mode": {
        "name": "ipython",
        "version": 3
      },
      "name": "python",
      "nbconvert_exporter": "python",
      "file_extension": ".py",
      "version": "3.5.3"
    },
    "kernelspec": {
      "language": "python",
      "display_name": "Python 3",
      "name": "python3"
    }
  },
  "cells": [
    {
      "cell_type": "code",
      "metadata": {
        "collapsed": false
      },
      "source": [
        "%matplotlib inline"
      ],
      "outputs": [],
      "execution_count": null
    },
    {
      "cell_type": "markdown",
      "metadata": {},
      "source": [
        "\nMapping Tools\n=============\n\nPlotting maps with matplotlib and geopandas.\n\n*geopandas* provides a high-level interface to the ``matplotlib`` library for\nmaking maps. Mapping shapes is as easy as using the ``plot()`` method\non a ``GeoSeries`` or ``GeoDataFrame``.\n\n.. currentmodule:: geopandas\n\nLoading some example data:\n\n"
      ]
    },
    {
      "cell_type": "code",
      "metadata": {
        "collapsed": false
      },
      "source": [
        "# sphinx_gallery_thumbnail_number = 2\nimport geopandas as gpd\n\nworld = gpd.read_file(gpd.datasets.get_path('naturalearth_lowres'))\ncities = gpd.read_file(gpd.datasets.get_path('naturalearth_cities'))"
      ],
      "outputs": [],
      "execution_count": null
    },
    {
      "cell_type": "markdown",
      "metadata": {},
      "source": [
        "We can now plot those GeoDataFrames:\n\n"
      ]
    },
    {
      "cell_type": "code",
      "metadata": {
        "collapsed": false
      },
      "source": [
        "# Examine country GeoDataFrame\nprint(world.head())\n\n# Basic plot, random colors\nworld.plot();"
      ],
      "outputs": [],
      "execution_count": null
    },
    {
      "cell_type": "markdown",
      "metadata": {},
      "source": [
        "Note that in general, any options one can pass to\n`pyplot <http://matplotlib.org/api/pyplot_api.html>`_ in ``matplotlib``\n(or `style options that work for\nlines <http://matplotlib.org/api/lines_api.html>`_) can be passed to the\n``plot()`` method.\n\nChloropleth Maps\n----------------\n\n*geopandas* makes it easy to create Chloropleth maps (maps where the color\nof each shape is based on the value of an associated variable). Simply use\nthe plot command with the ``column`` argument set to the column whose values\nyou want used to assign colors.\n\n"
      ]
    },
    {
      "cell_type": "code",
      "metadata": {
        "collapsed": false
      },
      "source": [
        "# Plot by GDP per capta\nworld = world[(world.pop_est>0) & (world.name!=\"Antarctica\")]\nworld['gdp_per_cap'] = world.gdp_md_est / world.pop_est\nworld.plot(column='gdp_per_cap');"
      ],
      "outputs": [],
      "execution_count": null
    },
    {
      "cell_type": "markdown",
      "metadata": {},
      "source": [
        "Choosing colors\n~~~~~~~~~~~~~~~\n\nOne can also modify the colors used by ``plot`` with the ``cmap``\noption (for a full list of colormaps, see the `matplotlib website\n<http://matplotlib.org/users/colormaps.html>`_):\n\n"
      ]
    },
    {
      "cell_type": "code",
      "metadata": {
        "collapsed": false
      },
      "source": [
        "world.plot(column='gdp_per_cap', cmap='OrRd');"
      ],
      "outputs": [],
      "execution_count": null
    },
    {
      "cell_type": "markdown",
      "metadata": {},
      "source": [
        "The way color maps are scaled can also be manipulated with the ``scheme``\noption (if you have ``pysal`` installed, which can be accomplished via\n``conda install pysal``). By default, ``scheme`` is set to 'equal_intervals',\nbut it can also be adjusted to any other\n`pysal option <http://pysal.org/1.2/library/esda/mapclassify.html>`_, like\n'quantiles', 'percentiles', etc.\n\n"
      ]
    },
    {
      "cell_type": "code",
      "metadata": {
        "collapsed": false
      },
      "source": [
        "world.plot(column='gdp_per_cap', cmap='OrRd', scheme='quantiles');"
      ],
      "outputs": [],
      "execution_count": null
    },
    {
      "cell_type": "markdown",
      "metadata": {},
      "source": [
        "Maps with Layers\n----------------\n\nThere are two strategies for making a map with multiple layers -- one more\nsuccinct, and one that is a littel more flexible.\n\nBefore combining maps, however, remember to always ensure they share a common\nCRS (so they will align).\n\n"
      ]
    },
    {
      "cell_type": "code",
      "metadata": {
        "collapsed": false
      },
      "source": [
        "# Look at capitals\n# Note use of standard `pyplot` line style options\ncities.plot(marker='*', color='green', markersize=5);\n\n# Check crs\ncities = cities.to_crs(world.crs)\n\n# Now we can overlay over country outlines\n# And yes, there are lots of island capitals\n# apparently in the middle of the ocean!"
      ],
      "outputs": [],
      "execution_count": null
    },
    {
      "cell_type": "markdown",
      "metadata": {},
      "source": [
        "**Method 1**\n\n"
      ]
    },
    {
      "cell_type": "code",
      "metadata": {
        "collapsed": false
      },
      "source": [
        "base = world.plot(color='white')\ncities.plot(ax=base, marker='o', color='red', markersize=5);"
      ],
      "outputs": [],
      "execution_count": null
    },
    {
      "cell_type": "markdown",
      "metadata": {},
      "source": [
        "**Method 2: Using matplotlib objects**\n\n"
      ]
    },
    {
      "cell_type": "code",
      "metadata": {
        "collapsed": false
      },
      "source": [
        "import matplotlib.pyplot as plt\nfig, ax = plt.subplots()\n\n# set aspect to equal. This is done automatically\n# when using *geopandas* plot on it's own, but not when\n# working with pyplot directly.\nax.set_aspect('equal')\n\nworld.plot(ax=ax, color='white')\ncities.plot(ax=ax, marker='o', color='red', markersize=5)\nplt.show();"
      ],
      "outputs": [],
      "execution_count": null
    },
    {
      "cell_type": "markdown",
      "metadata": {},
      "source": [
        "Other Resources\n---------------\nLinks to jupyter Notebooks for different mapping tasks:\n\n`Making Heat Maps <http://nbviewer.jupyter.org/gist/perrygeo/c426355e40037c452434>`_\n\n"
      ]
    }
  ],
  "nbformat_minor": 0,
  "nbformat": 4
}