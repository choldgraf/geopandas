{
  "nbformat_minor": 0,
  "nbformat": 4,
  "metadata": {
    "kernelspec": {
      "display_name": "Python 3",
      "name": "python3",
      "language": "python"
    },
    "language_info": {
      "name": "python",
      "codemirror_mode": {
        "name": "ipython",
        "version": 3
      },
      "version": "3.5.3",
      "file_extension": ".py",
      "mimetype": "text/x-python",
      "nbconvert_exporter": "python",
      "pygments_lexer": "ipython3"
    }
  },
  "cells": [
    {
      "execution_count": null,
      "outputs": [],
      "cell_type": "code",
      "metadata": {
        "collapsed": false
      },
      "source": [
        "%matplotlib inline"
      ]
    },
    {
      "cell_type": "markdown",
      "metadata": {},
      "source": [
        "\nGeometric Manipulations\n=======================\n\n*geopandas* makes available all the tools for geometric manipulations in the\n`*shapely* library <http://toblerity.org/shapely/manual.html>`_.\n\nNote that documentation for all set-theoretic tools for creating new shapes\nusing the relationship between two different spatial datasets -- like creating\nintersections, or differences -- can be found on the\n:doc:`set operations <set_operations>` page.\n\nConstructive Methods\n~~~~~~~~~~~~~~~~~~~~\n\n.. method:: GeoSeries.buffer(distance, resolution=16)\n\n  Returns a ``GeoSeries`` of geometries representing all points within a\n  given ``distance`` of each geometric object.\n\n.. attribute:: GeoSeries.boundary\n\n  Returns a ``GeoSeries`` of lower dimensional objects representing\n  each geometries's set-theoretic `boundary`.\n\n.. attribute:: GeoSeries.centroid\n\n  Returns a ``GeoSeries`` of points for each geometric centroid.\n\n.. attribute:: GeoSeries.convex_hull\n\n  Returns a ``GeoSeries`` of geometries representing the smallest\n  convex `Polygon` containing all the points in each object unless the\n  number of points in the object is less than three. For two points,\n  the convex hull collapses to a `LineString`; for 1, a `Point`.\n\n.. attribute:: GeoSeries.envelope\n\n  Returns a ``GeoSeries`` of geometries representing the point or\n  smallest rectangular polygon (with sides parallel to the coordinate\n  axes) that contains each object.\n\n.. method:: GeoSeries.simplify(tolerance, preserve_topology=True)\n\n  Returns a ``GeoSeries`` containing a simplified representation of\n  each object.\n\n.. attribute:: GeoSeries.unary_union\n\n  Return a geometry containing the union of all geometries in the ``GeoSeries``.\n\n\nAffine transformations\n~~~~~~~~~~~~~~~~~~~~~~~~\n\n.. method:: GeoSeries.rotate(self, angle, origin='center', use_radians=False)\n\n  Rotate the coordinates of the GeoSeries.\n\n.. method:: GeoSeries.scale(self, xfact=1.0, yfact=1.0, zfact=1.0, origin='center')\n\n Scale the geometries of the GeoSeries along each (x, y, z) dimensio.\n\n.. method:: GeoSeries.skew(self, angle, origin='center', use_radians=False)\n\n  Shear/Skew the geometries of the GeoSeries by angles along x and y dimensions.\n\n.. method:: GeoSeries.translate(self, angle, origin='center', use_radians=False)\n\n  Shift the coordinates of the GeoSeries.\n\n\nExamples of Geometric Manipulations\n------------------------------------\n\n"
      ]
    },
    {
      "execution_count": null,
      "outputs": [],
      "cell_type": "code",
      "metadata": {
        "collapsed": false
      },
      "source": [
        "# sphinx_gallery_thumbnail_number = 5\nimport numpy as np\nfrom shapely.geometry import Polygon\nfrom geopandas import GeoSeries, GeoDataFrame\n\np1 = Polygon([(0, 0), (1, 0), (1, 1)])\np2 = Polygon([(0, 0), (1, 0), (1, 1), (0, 1)])\np3 = Polygon([(2, 0), (3, 0), (3, 1), (2, 1)])\ng = GeoSeries([p1, p2, p3])\nprint(g)\n\ng.plot()"
      ]
    },
    {
      "cell_type": "markdown",
      "metadata": {},
      "source": [
        "Some geographic operations return normal pandas object.  The ``area``\nproperty of a ``GeoSeries`` will return a ``pandas.Series`` containing\nthe area of each item in the ``GeoSeries``:\n\n"
      ]
    },
    {
      "execution_count": null,
      "outputs": [],
      "cell_type": "code",
      "metadata": {
        "collapsed": false
      },
      "source": [
        "print(g.area)"
      ]
    },
    {
      "cell_type": "markdown",
      "metadata": {},
      "source": [
        "Other operations return GeoPandas objects:\n\n"
      ]
    },
    {
      "execution_count": null,
      "outputs": [],
      "cell_type": "code",
      "metadata": {
        "collapsed": false
      },
      "source": [
        "print(g.buffer(0.5))\ng.buffer(0.5).plot()"
      ]
    },
    {
      "cell_type": "markdown",
      "metadata": {},
      "source": [
        "GeoPandas objects also know how to plot themselves.  GeoPandas uses\n`descartes`_ to generate a `matplotlib`_ plot. To generate a plot\nof our GeoSeries, use:\n\n"
      ]
    },
    {
      "execution_count": null,
      "outputs": [],
      "cell_type": "code",
      "metadata": {
        "collapsed": false
      },
      "source": [
        "g.plot()"
      ]
    },
    {
      "cell_type": "markdown",
      "metadata": {},
      "source": [
        "GeoPandas also implements alternate constructors that can read any data\nformat recognized by `fiona`_.  To read a `file containing the boroughs\nof New York City`_:\n\n"
      ]
    },
    {
      "execution_count": null,
      "outputs": [],
      "cell_type": "code",
      "metadata": {
        "collapsed": false
      },
      "source": [
        "boros = GeoDataFrame.from_file('data/nybb_16a/nybb.shp')\nboros.set_index('BoroCode', inplace=True)\nboros = boros.sort_index()\nprint(boros)\nboros.plot()"
      ]
    },
    {
      "execution_count": null,
      "outputs": [],
      "cell_type": "code",
      "metadata": {
        "collapsed": false
      },
      "source": [
        "print(boros['geometry'].convex_hull)\nboros['geometry'].convex_hull.plot()"
      ]
    },
    {
      "cell_type": "markdown",
      "metadata": {},
      "source": [
        "To demonstrate a more complex operation, we'll generate a\n``GeoSeries`` containing 2000 random points:\n\n"
      ]
    },
    {
      "execution_count": null,
      "outputs": [],
      "cell_type": "code",
      "metadata": {
        "collapsed": false
      },
      "source": [
        "from shapely.geometry import Point\nxmin, xmax, ymin, ymax = 900000, 1080000, 120000, 280000\nxc = (xmax - xmin) * np.random.random(2000) + xmin\nyc = (ymax - ymin) * np.random.random(2000) + ymin\npts = GeoSeries([Point(x, y) for x, y in zip(xc, yc)])"
      ]
    },
    {
      "cell_type": "markdown",
      "metadata": {},
      "source": [
        "Now draw a circle with fixed radius around each point:\n\n"
      ]
    },
    {
      "execution_count": null,
      "outputs": [],
      "cell_type": "code",
      "metadata": {
        "collapsed": false
      },
      "source": [
        "circles = pts.buffer(2000)"
      ]
    },
    {
      "cell_type": "markdown",
      "metadata": {},
      "source": [
        "We can collapse these circles into a single shapely MultiPolygon\ngeometry with:\n\n"
      ]
    },
    {
      "execution_count": null,
      "outputs": [],
      "cell_type": "code",
      "metadata": {
        "collapsed": false
      },
      "source": [
        "mp = circles.unary_union"
      ]
    },
    {
      "cell_type": "markdown",
      "metadata": {},
      "source": [
        "To extract the part of this geometry contained in each borough, we can\njust use:\n\n"
      ]
    },
    {
      "execution_count": null,
      "outputs": [],
      "cell_type": "code",
      "metadata": {
        "collapsed": false
      },
      "source": [
        "holes = boros['geometry'].intersection(mp)\nholes.plot()"
      ]
    },
    {
      "cell_type": "markdown",
      "metadata": {},
      "source": [
        "and to get the area outside of the holes:\n\n"
      ]
    },
    {
      "execution_count": null,
      "outputs": [],
      "cell_type": "code",
      "metadata": {
        "collapsed": false
      },
      "source": [
        "boros_with_holes = boros['geometry'].difference(mp)\nboros_with_holes.plot()"
      ]
    },
    {
      "cell_type": "markdown",
      "metadata": {},
      "source": [
        "Note that this can be simplified a bit, since ``geometry`` is\navailable as an attribute on a ``GeoDataFrame``, and the\n``intersection`` and ``difference`` methods are implemented with the\n\"&\" and \"-\" operators, respectively.  For example, the latter could\nhave been expressed simply as ``boros.geometry - mp``.\n\nIt's easy to do things like calculate the fractional area in each\nborough that are in the holes:\n\n"
      ]
    },
    {
      "execution_count": null,
      "outputs": [],
      "cell_type": "code",
      "metadata": {
        "collapsed": false
      },
      "source": [
        "print(holes.area / boros.geometry.area)"
      ]
    },
    {
      "cell_type": "markdown",
      "metadata": {},
      "source": [
        "\n"
      ]
    }
  ]
}