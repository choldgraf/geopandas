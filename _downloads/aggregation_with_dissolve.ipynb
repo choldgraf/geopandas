{
  "metadata": {
    "language_info": {
      "mimetype": "text/x-python",
      "pygments_lexer": "ipython3",
      "codemirror_mode": {
        "name": "ipython",
        "version": 3
      },
      "name": "python",
      "nbconvert_exporter": "python",
      "file_extension": ".py",
      "version": "3.5.3"
    },
    "kernelspec": {
      "language": "python",
      "display_name": "Python 3",
      "name": "python3"
    }
  },
  "cells": [
    {
      "cell_type": "code",
      "metadata": {
        "collapsed": false
      },
      "source": [
        "%matplotlib inline"
      ],
      "outputs": [],
      "execution_count": null
    },
    {
      "cell_type": "markdown",
      "metadata": {},
      "source": [
        "\nAggregation with dissolve\n=========================\n\nHow to change data granularity with geopandas.\n\nIt is often the case that we find ourselves working with spatial data that is\nmore granular than we need. For example, we might have data on sub-national\nunits, but we're actually interested in studying patterns at the level of\ncountries.\n\nIn a non-spatial setting, we aggregate our data using the ``groupby``\nfunction. But when working with spatial data, we need a special tool that\ncan also aggregate geometric features. In the *geopandas* library, that\nfunctionality is provided by the ``dissolve`` function.\n\n``dissolve`` can be thought of as doing three things: (a) it dissolves\nall the geometries within a given group together into a single geometric\nfeature (using the ``unary_union`` method), and (b) it aggregates all the\nrows of data in a group using ``groupby.aggregate()``, and (c) it combines\nthose two results.\n\n``dissolve`` Example\n~~~~~~~~~~~~~~~~~~~~~\n\nSuppose we are interested in studying continents, but we only have\ncountry-level data like the country dataset included in *geopandas*.\nWe can easily convert this to a continent-level dataset.\n\nFirst, let's look at the most simple case where we just want continent shapes\nand names. By default, ``dissolve`` will pass ``'first'`` to\n``groupby.aggregate``.\n\n"
      ]
    },
    {
      "cell_type": "code",
      "metadata": {
        "collapsed": false
      },
      "source": [
        "# sphinx_gallery_thumbnail_number = 2\nimport geopandas as gpd\n\n\nworld = gpd.read_file(gpd.datasets.get_path('naturalearth_lowres'))\nworld = world[['continent', 'geometry']]\ncontinents = world.dissolve(by='continent')\n\ncontinents.plot()\nprint(continents.head())"
      ],
      "outputs": [],
      "execution_count": null
    },
    {
      "cell_type": "markdown",
      "metadata": {},
      "source": [
        "If we are interested in aggregate populations, however, we can pass\ndifferent functions to the ``dissolve`` method to aggregate populations:\n\n"
      ]
    },
    {
      "cell_type": "code",
      "metadata": {
        "collapsed": false
      },
      "source": [
        "world = gpd.read_file(gpd.datasets.get_path('naturalearth_lowres'))\nworld = world[['continent', 'geometry', 'pop_est']]\ncontinents = world.dissolve(by='continent', aggfunc='sum')\n\ncontinents.plot(column = 'pop_est', scheme='quantiles', cmap='YlOrRd');\nprint(continents.head())"
      ],
      "outputs": [],
      "execution_count": null
    }
  ],
  "nbformat_minor": 0,
  "nbformat": 4
}